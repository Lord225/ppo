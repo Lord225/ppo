{
 "cells": [
  {
   "cell_type": "code",
   "execution_count": 1,
   "metadata": {},
   "outputs": [],
   "source": [
    "import sys\n",
    "import os\n",
    "sys.path.append(os.path.join(os.path.abspath(''), '../'))\n",
    "\n",
    "import tensorflow as tf\n",
    "import enviroments"
   ]
  },
  {
   "cell_type": "code",
   "execution_count": 2,
   "metadata": {},
   "outputs": [
    {
     "name": "stderr",
     "output_type": "stream",
     "text": [
      "c:\\Users\\Maciej\\miniconda3\\envs\\tensorflow\\lib\\site-packages\\ale_py\\env\\gym.py:83: UserWarning: \u001b[33mWARN: obs_type \"image\" should be replaced with the image type, one of: rgb, grayscale\u001b[0m\n",
      "  logger.warn(\n"
     ]
    },
    {
     "name": "stdout",
     "output_type": "stream",
     "text": [
      "WARNING:tensorflow:No training configuration found in the save file, so the model was *not* compiled. Compile it manually.\n"
     ]
    },
    {
     "name": "stderr",
     "output_type": "stream",
     "text": [
      "WARNING:tensorflow:No training configuration found in the save file, so the model was *not* compiled. Compile it manually.\n"
     ]
    },
    {
     "name": "stdout",
     "output_type": "stream",
     "text": [
      "WARNING:tensorflow:No training configuration found in the save file, so the model was *not* compiled. Compile it manually.\n"
     ]
    },
    {
     "name": "stderr",
     "output_type": "stream",
     "text": [
      "WARNING:tensorflow:No training configuration found in the save file, so the model was *not* compiled. Compile it manually.\n",
      "  0%|          | 0/1 [00:00<?, ?it/s]c:\\Users\\Maciej\\miniconda3\\envs\\tensorflow\\lib\\site-packages\\gym\\utils\\passive_env_checker.py:233: DeprecationWarning: `np.bool8` is a deprecated alias for `np.bool_`.  (Deprecated NumPy 1.24)\n",
      "  if not isinstance(terminated, (bool, np.bool8)):\n",
      "c:\\Users\\Maciej\\miniconda3\\envs\\tensorflow\\lib\\site-packages\\gym\\utils\\passive_env_checker.py:289: UserWarning: \u001b[33mWARN: No render fps was declared in the environment (env.metadata['render_fps'] is None or not defined), rendering may occur at inconsistent fps.\u001b[0m\n",
      "  logger.warn(\n",
      "Reward: 3940.00 (3940.00 +/- 0.00) - Iterations: 881: 100%|██████████| 1/1 [00:40<00:00, 40.56s/it, 74885]\n"
     ]
    }
   ],
   "source": [
    "env = enviroments.get_pacman_stack_frames_big()\n",
    "\n",
    "modelPath  = 'C:\\\\Users\\\\Maciej\\\\pyrepos\\\\ppo\\\\retain\\\\MsPacman-v5v5.0_20231203-143539_5000.actor.h5'\n",
    "curiusPath = 'C:\\\\Users\\\\Maciej\\\\pyrepos\\\\ppo\\\\retain\\\\MsPacman-v5v5.0_20231203-143539_5000.curiosity.h5'\n",
    "\n",
    "model = tf.keras.models.load_model(modelPath)\n",
    "\n",
    "curiosity = tf.keras.models.load_model(curiusPath)\n",
    "\n",
    "state, _ = env.reset()\n",
    "\n",
    "from checkout.common import run_episode\n",
    "\n",
    "rewards, history =  run_episode(env, \n",
    "                                model, \n",
    "                                lambda x: enviroments.pacman_transform_grayscale_observation_stack_big(x), \n",
    "                                show_curiosity=False,\n",
    "                                save_all=True,\n",
    "                                limit=1,\n",
    "                                curiosity=curiosity)\n"
   ]
  },
  {
   "cell_type": "code",
   "execution_count": 3,
   "metadata": {},
   "outputs": [
    {
     "data": {
      "image/png": "[encoded data removed]",
      "text/plain": [
       "<Figure size 640x480 with 1 Axes>"
      ]
     },
     "metadata": {},
     "output_type": "display_data"
    }
   ],
   "source": [
    "# save 100'th frame as images\n",
    "import matplotlib.pyplot as plt\n",
    "import numpy as np\n",
    "\n",
    "\n",
    "obs = history[0][100][0]\n",
    "\n",
    "# add transparent background, remove bars with pixel coordinates \n",
    "for i in range(6):\n",
    "    # remove numberlines \n",
    "    plt.imshow(obs[:,:,i], cmap='plasma')\n",
    "    plt.axis('off')\n",
    "                \n",
    "    plt.savefig('frame{}.png'.format(i), transparent=True)"
   ]
  },
  {
   "cell_type": "code",
   "execution_count": 4,
   "metadata": {},
   "outputs": [
    {
     "data": {
      "text/plain": [
       "array(False)"
      ]
     },
     "execution_count": 4,
     "metadata": {},
     "output_type": "execute_result"
    }
   ],
   "source": [
    "history[0][100][3]"
   ]
  },
  {
   "cell_type": "code",
   "execution_count": 6,
   "metadata": {},
   "outputs": [
    {
     "name": "stderr",
     "output_type": "stream",
     "text": [
      "C:\\Users\\Maciej\\AppData\\Local\\Temp\\ipykernel_1048\\1912452753.py:11: DeprecationWarning: Starting with ImageIO v3 the behavior of this function will switch to that of iio.v3.imread. To keep the current behavior (and make this warning disappear) use `import imageio.v2 as imageio` or call `imageio.v2.imread` directly.\n",
      "  frames.append(imageio.imread('frame_curiosity.png'.format(i)))\n"
     ]
    },
    {
     "data": {
      "image/png": "[encoded data removed]",
      "text/plain": [
       "<Figure size 640x480 with 1 Axes>"
      ]
     },
     "metadata": {},
     "output_type": "display_data"
    }
   ],
   "source": [
    "\n",
    "# plt.imshow(history[0][100][4][0, :, :, 0], cmap='plasma')\n",
    "# plt.axis('off')\n",
    "# plt.savefig('frame_curiosity.png', transparent=True)\n",
    "# save 100-150 as giv\n",
    "import imageio\n",
    "frames = []\n",
    "for i in range(100, 150):\n",
    "    plt.imshow(history[0][i][4][0, :, :, 0], cmap='plasma')\n",
    "    plt.axis('off')\n",
    "    plt.savefig('frame_curiosity.png'.format(i), transparent=True)\n",
    "    frames.append(imageio.imread('frame_curiosity.png'.format(i)))\n",
    "\n",
    "imageio.mimsave('output.gif', frames, 'GIF', duration=0.1, loop=0)"
   ]
  },
  {
   "cell_type": "code",
   "execution_count": 10,
   "metadata": {},
   "outputs": [
    {
     "name": "stderr",
     "output_type": "stream",
     "text": [
      "C:\\Users\\Maciej\\AppData\\Local\\Temp\\ipykernel_1048\\2478828267.py:11: DeprecationWarning: Starting with ImageIO v3 the behavior of this function will switch to that of iio.v3.imread. To keep the current behavior (and make this warning disappear) use `import imageio.v2 as imageio` or call `imageio.v2.imread` directly.\n",
      "  frames.append(imageio.imread('frame_curiosity.png'.format(i)))\n"
     ]
    },
    {
     "data": {
      "image/png": "[encoded data removed]",
      "text/plain": [
       "<Figure size 640x480 with 1 Axes>"
      ]
     },
     "metadata": {},
     "output_type": "display_data"
    }
   ],
   "source": [
    "# plt.imshow(history[0][100][4][0, :, :, 0], cmap='plasma')\n",
    "# plt.axis('off')\n",
    "# plt.savefig('frame_curiosity.png', transparent=True)\n",
    "# save 100-150 as giv\n",
    "import imageio\n",
    "frames = []\n",
    "for i in range(100, 150):\n",
    "    plt.imshow(history[0][i][0][:, :, 0], cmap='plasma')\n",
    "    plt.axis('off')\n",
    "    plt.savefig('frame_curiosity.png'.format(i), transparent=True)\n",
    "    frames.append(imageio.imread('frame_curiosity.png'.format(i)))\n",
    "\n",
    "imageio.mimsave('output2.gif', frames, 'GIF', duration=0.1, loop=0)"
   ]
  },
  {
   "cell_type": "code",
   "execution_count": null,
   "metadata": {},
   "outputs": [],
   "source": []
  }
 ],
 "metadata": {
  "kernelspec": {
   "display_name": "tensorflow",
   "language": "python",
   "name": "python3"
  },
  "language_info": {
   "codemirror_mode": {
    "name": "ipython",
    "version": 3
   },
   "file_extension": ".py",
   "mimetype": "text/x-python",
   "name": "python",
   "nbconvert_exporter": "python",
   "pygments_lexer": "ipython3",
   "version": "3.10.13"
  }
 },
 "nbformat": 4,
 "nbformat_minor": 2
}
